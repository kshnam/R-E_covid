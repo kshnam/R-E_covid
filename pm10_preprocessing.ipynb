{
 "cells": [
  {
   "cell_type": "code",
   "execution_count": 1,
   "metadata": {},
   "outputs": [],
   "source": [
    "import pandas as pd\n",
    "import numpy as np"
   ]
  },
  {
   "cell_type": "markdown",
   "metadata": {},
   "source": [
    "# 2020"
   ]
  },
  {
   "cell_type": "code",
   "execution_count": 3,
   "metadata": {},
   "outputs": [],
   "source": [
    "dataset1 = pd.read_excel(r'2020_01.xlsx')\n",
    "\n",
    "dataset2 = pd.read_excel(r'2020_02.xlsx')\n",
    "\n",
    "dataset3 = pd.read_excel(r'2020_03.xlsx')\n",
    "\n",
    "dataset4 = pd.read_excel(r'2020_04.xlsx')"
   ]
  },
  {
   "cell_type": "code",
   "execution_count": 4,
   "metadata": {},
   "outputs": [],
   "source": [
    "dataset = pd.concat([dataset1, dataset2, dataset3, dataset4])"
   ]
  },
  {
   "cell_type": "code",
   "execution_count": 5,
   "metadata": {},
   "outputs": [],
   "source": [
    "dataset = dataset[['지역', '측정소명', '측정일시', 'PM10']]"
   ]
  },
  {
   "cell_type": "code",
   "execution_count": 6,
   "metadata": {},
   "outputs": [],
   "source": [
    "data_seoul = []\n",
    "data_gangwon = []\n",
    "data_chungbuk = []\n",
    "data_chungnam = []\n",
    "data_gyeongbuk = []\n",
    "data_gyeongnam = []\n",
    "data_jeonbuk = []\n",
    "data_jeonnam = []\n",
    "data_jeju = []"
   ]
  },
  {
   "cell_type": "markdown",
   "metadata": {},
   "source": [
    "# 서울"
   ]
  },
  {
   "cell_type": "code",
   "execution_count": 7,
   "metadata": {},
   "outputs": [],
   "source": [
    "for i in range(len(dataset)):\n",
    "    if dataset.iloc[i]['측정소명'] == '중구':\n",
    "        data_seoul.append(dataset.iloc[i])"
   ]
  },
  {
   "cell_type": "code",
   "execution_count": 8,
   "metadata": {},
   "outputs": [],
   "source": [
    "data_seoul = pd.DataFrame(data_seoul).reset_index()\n",
    "del data_seoul['index']"
   ]
  },
  {
   "cell_type": "markdown",
   "metadata": {},
   "source": [
    "# 강원"
   ]
  },
  {
   "cell_type": "code",
   "execution_count": 9,
   "metadata": {},
   "outputs": [],
   "source": [
    "for i in range(len(dataset)):\n",
    "    if dataset.iloc[i]['측정소명'] == '옥천동':\n",
    "        data_gangwon.append(dataset.iloc[i])"
   ]
  },
  {
   "cell_type": "code",
   "execution_count": 10,
   "metadata": {},
   "outputs": [],
   "source": [
    "data_gangwon = pd.DataFrame(data_gangwon).reset_index()\n",
    "del data_gangwon['index']"
   ]
  },
  {
   "cell_type": "markdown",
   "metadata": {},
   "source": [
    "# 충청도"
   ]
  },
  {
   "cell_type": "code",
   "execution_count": 13,
   "metadata": {},
   "outputs": [],
   "source": [
    "for i in range(len(dataset)):\n",
    "    if dataset.iloc[i]['측정소명'] == '용암동':\n",
    "        data_chungbuk.append(dataset.iloc[i])"
   ]
  },
  {
   "cell_type": "code",
   "execution_count": 14,
   "metadata": {},
   "outputs": [],
   "source": [
    "data_chungbuk = pd.DataFrame(data_chungbuk).reset_index()\n",
    "del data_chungbuk['index']"
   ]
  },
  {
   "cell_type": "markdown",
   "metadata": {},
   "source": [
    "# 경북"
   ]
  },
  {
   "cell_type": "code",
   "execution_count": 15,
   "metadata": {},
   "outputs": [],
   "source": [
    "for i in range(len(dataset)):\n",
    "    if dataset.iloc[i]['측정소명'] == '안계면':\n",
    "        data_gyeongbuk.append(dataset.iloc[i])"
   ]
  },
  {
   "cell_type": "code",
   "execution_count": 16,
   "metadata": {},
   "outputs": [],
   "source": [
    "data_gyeongbuk = pd.DataFrame(data_gyeongbuk).reset_index()\n",
    "del data_gyeongbuk['index']"
   ]
  },
  {
   "cell_type": "markdown",
   "metadata": {},
   "source": [
    "# 경남"
   ]
  },
  {
   "cell_type": "code",
   "execution_count": 17,
   "metadata": {},
   "outputs": [],
   "source": [
    "for i in range(len(dataset)):\n",
    "    if dataset.iloc[i]['측정소명'] == '상대동':\n",
    "        data_gyeongnam.append(dataset.iloc[i])"
   ]
  },
  {
   "cell_type": "code",
   "execution_count": 18,
   "metadata": {},
   "outputs": [],
   "source": [
    "data_gyeongnam = pd.DataFrame(data_gyeongnam).reset_index()\n",
    "del data_gyeongnam['index']"
   ]
  },
  {
   "cell_type": "markdown",
   "metadata": {},
   "source": [
    "# 전북"
   ]
  },
  {
   "cell_type": "code",
   "execution_count": 19,
   "metadata": {},
   "outputs": [],
   "source": [
    "for i in range(len(dataset)):\n",
    "    if dataset.iloc[i]['측정소명'] == '중앙동(전주)':\n",
    "        data_jeonbuk.append(dataset.iloc[i])"
   ]
  },
  {
   "cell_type": "code",
   "execution_count": 20,
   "metadata": {},
   "outputs": [],
   "source": [
    "data_jeonbuk = pd.DataFrame(data_jeonbuk).reset_index()\n",
    "del data_jeonbuk['index']"
   ]
  },
  {
   "cell_type": "markdown",
   "metadata": {},
   "source": [
    "# 전남"
   ]
  },
  {
   "cell_type": "code",
   "execution_count": 21,
   "metadata": {},
   "outputs": [],
   "source": [
    "for i in range(len(dataset)):\n",
    "    if dataset.iloc[i]['측정소명'] == '치평동':\n",
    "        data_jeonnam.append(dataset.iloc[i])"
   ]
  },
  {
   "cell_type": "code",
   "execution_count": 22,
   "metadata": {},
   "outputs": [],
   "source": [
    "data_jeonnam = pd.DataFrame(data_jeonnam).reset_index()\n",
    "del data_jeonnam['index']"
   ]
  },
  {
   "cell_type": "code",
   "execution_count": 23,
   "metadata": {},
   "outputs": [],
   "source": [
    "seoul_pm10 = data_seoul['PM10']\n",
    "gangwon_pm10 = data_gangwon['PM10']\n",
    "chungbuk_pm10 = data_chungbuk['PM10']\n",
    "gyeongbuk_pm10 = data_gyeongbuk['PM10']\n",
    "gyeongnam_pm10 = data_gyeongnam['PM10']\n",
    "jeonbuk_pm10 = data_jeonbuk['PM10']\n",
    "jeonnam_pm10 = data_jeonnam['PM10']"
   ]
  },
  {
   "cell_type": "code",
   "execution_count": 24,
   "metadata": {},
   "outputs": [],
   "source": [
    "Dataset = pd.DataFrame({'서울 PM10' : seoul_pm10, '강원 PM10' : gangwon_pm10, '충청 PM10' : chungbuk_pm10,'경남 PM10' : gyeongnam_pm10,  '경북 PM10' : gyeongbuk_pm10, '전남 PM10' : jeonnam_pm10, '전북 PM10' : jeonbuk_pm10})"
   ]
  },
  {
   "cell_type": "code",
   "execution_count": 25,
   "metadata": {},
   "outputs": [
    {
     "data": {
      "text/html": [
       "<div>\n",
       "<style scoped>\n",
       "    .dataframe tbody tr th:only-of-type {\n",
       "        vertical-align: middle;\n",
       "    }\n",
       "\n",
       "    .dataframe tbody tr th {\n",
       "        vertical-align: top;\n",
       "    }\n",
       "\n",
       "    .dataframe thead th {\n",
       "        text-align: right;\n",
       "    }\n",
       "</style>\n",
       "<table border=\"1\" class=\"dataframe\">\n",
       "  <thead>\n",
       "    <tr style=\"text-align: right;\">\n",
       "      <th></th>\n",
       "      <th>서울 PM10</th>\n",
       "      <th>강원 PM10</th>\n",
       "      <th>충청 PM10</th>\n",
       "      <th>경남 PM10</th>\n",
       "      <th>경북 PM10</th>\n",
       "      <th>전남 PM10</th>\n",
       "      <th>전북 PM10</th>\n",
       "    </tr>\n",
       "  </thead>\n",
       "  <tbody>\n",
       "    <tr>\n",
       "      <th>0</th>\n",
       "      <td>30</td>\n",
       "      <td>30</td>\n",
       "      <td>45</td>\n",
       "      <td>45</td>\n",
       "      <td>-999</td>\n",
       "      <td>54</td>\n",
       "      <td>44</td>\n",
       "    </tr>\n",
       "    <tr>\n",
       "      <th>1</th>\n",
       "      <td>42</td>\n",
       "      <td>28</td>\n",
       "      <td>38</td>\n",
       "      <td>42</td>\n",
       "      <td>-999</td>\n",
       "      <td>70</td>\n",
       "      <td>40</td>\n",
       "    </tr>\n",
       "    <tr>\n",
       "      <th>2</th>\n",
       "      <td>46</td>\n",
       "      <td>28</td>\n",
       "      <td>36</td>\n",
       "      <td>39</td>\n",
       "      <td>-999</td>\n",
       "      <td>72</td>\n",
       "      <td>45</td>\n",
       "    </tr>\n",
       "    <tr>\n",
       "      <th>3</th>\n",
       "      <td>30</td>\n",
       "      <td>24</td>\n",
       "      <td>34</td>\n",
       "      <td>43</td>\n",
       "      <td>-999</td>\n",
       "      <td>74</td>\n",
       "      <td>40</td>\n",
       "    </tr>\n",
       "    <tr>\n",
       "      <th>4</th>\n",
       "      <td>25</td>\n",
       "      <td>24</td>\n",
       "      <td>35</td>\n",
       "      <td>43</td>\n",
       "      <td>-999</td>\n",
       "      <td>74</td>\n",
       "      <td>23</td>\n",
       "    </tr>\n",
       "    <tr>\n",
       "      <th>...</th>\n",
       "      <td>...</td>\n",
       "      <td>...</td>\n",
       "      <td>...</td>\n",
       "      <td>...</td>\n",
       "      <td>...</td>\n",
       "      <td>...</td>\n",
       "      <td>...</td>\n",
       "    </tr>\n",
       "    <tr>\n",
       "      <th>8755</th>\n",
       "      <td>114</td>\n",
       "      <td>129</td>\n",
       "      <td>101</td>\n",
       "      <td>133</td>\n",
       "      <td>123</td>\n",
       "      <td>150</td>\n",
       "      <td>142</td>\n",
       "    </tr>\n",
       "    <tr>\n",
       "      <th>8756</th>\n",
       "      <td>126</td>\n",
       "      <td>132</td>\n",
       "      <td>97</td>\n",
       "      <td>140</td>\n",
       "      <td>111</td>\n",
       "      <td>134</td>\n",
       "      <td>130</td>\n",
       "    </tr>\n",
       "    <tr>\n",
       "      <th>8757</th>\n",
       "      <td>141</td>\n",
       "      <td>142</td>\n",
       "      <td>103</td>\n",
       "      <td>133</td>\n",
       "      <td>103</td>\n",
       "      <td>152</td>\n",
       "      <td>134</td>\n",
       "    </tr>\n",
       "    <tr>\n",
       "      <th>8758</th>\n",
       "      <td>145</td>\n",
       "      <td>134</td>\n",
       "      <td>107</td>\n",
       "      <td>137</td>\n",
       "      <td>119</td>\n",
       "      <td>174</td>\n",
       "      <td>140</td>\n",
       "    </tr>\n",
       "    <tr>\n",
       "      <th>8759</th>\n",
       "      <td>162</td>\n",
       "      <td>126</td>\n",
       "      <td>119</td>\n",
       "      <td>138</td>\n",
       "      <td>117</td>\n",
       "      <td>178</td>\n",
       "      <td>151</td>\n",
       "    </tr>\n",
       "  </tbody>\n",
       "</table>\n",
       "<p>8760 rows × 7 columns</p>\n",
       "</div>"
      ],
      "text/plain": [
       "      서울 PM10  강원 PM10  충청 PM10  경남 PM10  경북 PM10  전남 PM10  전북 PM10\n",
       "0          30       30       45       45     -999       54       44\n",
       "1          42       28       38       42     -999       70       40\n",
       "2          46       28       36       39     -999       72       45\n",
       "3          30       24       34       43     -999       74       40\n",
       "4          25       24       35       43     -999       74       23\n",
       "...       ...      ...      ...      ...      ...      ...      ...\n",
       "8755      114      129      101      133      123      150      142\n",
       "8756      126      132       97      140      111      134      130\n",
       "8757      141      142      103      133      103      152      134\n",
       "8758      145      134      107      137      119      174      140\n",
       "8759      162      126      119      138      117      178      151\n",
       "\n",
       "[8760 rows x 7 columns]"
      ]
     },
     "execution_count": 25,
     "metadata": {},
     "output_type": "execute_result"
    }
   ],
   "source": [
    "Dataset"
   ]
  },
  {
   "cell_type": "code",
   "execution_count": 26,
   "metadata": {},
   "outputs": [],
   "source": [
    "Dataset = Dataset.set_index(data_seoul['측정일시'])"
   ]
  },
  {
   "cell_type": "code",
   "execution_count": 27,
   "metadata": {},
   "outputs": [
    {
     "data": {
      "text/html": [
       "<div>\n",
       "<style scoped>\n",
       "    .dataframe tbody tr th:only-of-type {\n",
       "        vertical-align: middle;\n",
       "    }\n",
       "\n",
       "    .dataframe tbody tr th {\n",
       "        vertical-align: top;\n",
       "    }\n",
       "\n",
       "    .dataframe thead th {\n",
       "        text-align: right;\n",
       "    }\n",
       "</style>\n",
       "<table border=\"1\" class=\"dataframe\">\n",
       "  <thead>\n",
       "    <tr style=\"text-align: right;\">\n",
       "      <th></th>\n",
       "      <th>서울 PM10</th>\n",
       "      <th>강원 PM10</th>\n",
       "      <th>충청 PM10</th>\n",
       "      <th>경남 PM10</th>\n",
       "      <th>경북 PM10</th>\n",
       "      <th>전남 PM10</th>\n",
       "      <th>전북 PM10</th>\n",
       "    </tr>\n",
       "    <tr>\n",
       "      <th>측정일시</th>\n",
       "      <th></th>\n",
       "      <th></th>\n",
       "      <th></th>\n",
       "      <th></th>\n",
       "      <th></th>\n",
       "      <th></th>\n",
       "      <th></th>\n",
       "    </tr>\n",
       "  </thead>\n",
       "  <tbody>\n",
       "    <tr>\n",
       "      <th>2013010101</th>\n",
       "      <td>30</td>\n",
       "      <td>30</td>\n",
       "      <td>45</td>\n",
       "      <td>45</td>\n",
       "      <td>-999</td>\n",
       "      <td>54</td>\n",
       "      <td>44</td>\n",
       "    </tr>\n",
       "    <tr>\n",
       "      <th>2013010102</th>\n",
       "      <td>42</td>\n",
       "      <td>28</td>\n",
       "      <td>38</td>\n",
       "      <td>42</td>\n",
       "      <td>-999</td>\n",
       "      <td>70</td>\n",
       "      <td>40</td>\n",
       "    </tr>\n",
       "    <tr>\n",
       "      <th>2013010103</th>\n",
       "      <td>46</td>\n",
       "      <td>28</td>\n",
       "      <td>36</td>\n",
       "      <td>39</td>\n",
       "      <td>-999</td>\n",
       "      <td>72</td>\n",
       "      <td>45</td>\n",
       "    </tr>\n",
       "    <tr>\n",
       "      <th>2013010104</th>\n",
       "      <td>30</td>\n",
       "      <td>24</td>\n",
       "      <td>34</td>\n",
       "      <td>43</td>\n",
       "      <td>-999</td>\n",
       "      <td>74</td>\n",
       "      <td>40</td>\n",
       "    </tr>\n",
       "    <tr>\n",
       "      <th>2013010105</th>\n",
       "      <td>25</td>\n",
       "      <td>24</td>\n",
       "      <td>35</td>\n",
       "      <td>43</td>\n",
       "      <td>-999</td>\n",
       "      <td>74</td>\n",
       "      <td>23</td>\n",
       "    </tr>\n",
       "    <tr>\n",
       "      <th>...</th>\n",
       "      <td>...</td>\n",
       "      <td>...</td>\n",
       "      <td>...</td>\n",
       "      <td>...</td>\n",
       "      <td>...</td>\n",
       "      <td>...</td>\n",
       "      <td>...</td>\n",
       "    </tr>\n",
       "    <tr>\n",
       "      <th>2013123120</th>\n",
       "      <td>114</td>\n",
       "      <td>129</td>\n",
       "      <td>101</td>\n",
       "      <td>133</td>\n",
       "      <td>123</td>\n",
       "      <td>150</td>\n",
       "      <td>142</td>\n",
       "    </tr>\n",
       "    <tr>\n",
       "      <th>2013123121</th>\n",
       "      <td>126</td>\n",
       "      <td>132</td>\n",
       "      <td>97</td>\n",
       "      <td>140</td>\n",
       "      <td>111</td>\n",
       "      <td>134</td>\n",
       "      <td>130</td>\n",
       "    </tr>\n",
       "    <tr>\n",
       "      <th>2013123122</th>\n",
       "      <td>141</td>\n",
       "      <td>142</td>\n",
       "      <td>103</td>\n",
       "      <td>133</td>\n",
       "      <td>103</td>\n",
       "      <td>152</td>\n",
       "      <td>134</td>\n",
       "    </tr>\n",
       "    <tr>\n",
       "      <th>2013123123</th>\n",
       "      <td>145</td>\n",
       "      <td>134</td>\n",
       "      <td>107</td>\n",
       "      <td>137</td>\n",
       "      <td>119</td>\n",
       "      <td>174</td>\n",
       "      <td>140</td>\n",
       "    </tr>\n",
       "    <tr>\n",
       "      <th>2013123124</th>\n",
       "      <td>162</td>\n",
       "      <td>126</td>\n",
       "      <td>119</td>\n",
       "      <td>138</td>\n",
       "      <td>117</td>\n",
       "      <td>178</td>\n",
       "      <td>151</td>\n",
       "    </tr>\n",
       "  </tbody>\n",
       "</table>\n",
       "<p>8760 rows × 7 columns</p>\n",
       "</div>"
      ],
      "text/plain": [
       "            서울 PM10  강원 PM10  충청 PM10  경남 PM10  경북 PM10  전남 PM10  전북 PM10\n",
       "측정일시                                                                     \n",
       "2013010101       30       30       45       45     -999       54       44\n",
       "2013010102       42       28       38       42     -999       70       40\n",
       "2013010103       46       28       36       39     -999       72       45\n",
       "2013010104       30       24       34       43     -999       74       40\n",
       "2013010105       25       24       35       43     -999       74       23\n",
       "...             ...      ...      ...      ...      ...      ...      ...\n",
       "2013123120      114      129      101      133      123      150      142\n",
       "2013123121      126      132       97      140      111      134      130\n",
       "2013123122      141      142      103      133      103      152      134\n",
       "2013123123      145      134      107      137      119      174      140\n",
       "2013123124      162      126      119      138      117      178      151\n",
       "\n",
       "[8760 rows x 7 columns]"
      ]
     },
     "execution_count": 27,
     "metadata": {},
     "output_type": "execute_result"
    }
   ],
   "source": [
    "Dataset"
   ]
  },
  {
   "cell_type": "code",
   "execution_count": 28,
   "metadata": {},
   "outputs": [],
   "source": [
    "Dataset.to_csv('2013_pm10.csv')"
   ]
  }
 ],
 "metadata": {
  "kernelspec": {
   "display_name": "Python 3",
   "language": "python",
   "name": "python3"
  },
  "language_info": {
   "codemirror_mode": {
    "name": "ipython",
    "version": 3
   },
   "file_extension": ".py",
   "mimetype": "text/x-python",
   "name": "python",
   "nbconvert_exporter": "python",
   "pygments_lexer": "ipython3",
   "version": "3.7.3"
  }
 },
 "nbformat": 4,
 "nbformat_minor": 4
}
